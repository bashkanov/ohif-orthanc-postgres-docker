{
 "cells": [
  {
   "cell_type": "code",
   "execution_count": 1,
   "metadata": {},
   "outputs": [],
   "source": [
    "import os\n",
    "import pydicom\n",
    "import glob\n",
    "import pandas as pd\n",
    "from datetime import datetime\n"
   ]
  },
  {
   "cell_type": "code",
   "execution_count": 2,
   "metadata": {},
   "outputs": [
    {
     "data": {
      "text/html": [
       "<div>\n",
       "<style scoped>\n",
       "    .dataframe tbody tr th:only-of-type {\n",
       "        vertical-align: middle;\n",
       "    }\n",
       "\n",
       "    .dataframe tbody tr th {\n",
       "        vertical-align: top;\n",
       "    }\n",
       "\n",
       "    .dataframe thead th {\n",
       "        text-align: right;\n",
       "    }\n",
       "</style>\n",
       "<table border=\"1\" class=\"dataframe\">\n",
       "  <thead>\n",
       "    <tr style=\"text-align: right;\">\n",
       "      <th></th>\n",
       "      <th>study_orthanc_id</th>\n",
       "      <th>class</th>\n",
       "      <th>region</th>\n",
       "      <th>zone</th>\n",
       "      <th>segment_id</th>\n",
       "      <th>count</th>\n",
       "      <th>study_date</th>\n",
       "      <th>patient_id</th>\n",
       "      <th>csPCa</th>\n",
       "      <th>case_class</th>\n",
       "      <th>healthy</th>\n",
       "      <th>StudyInstanceUID</th>\n",
       "      <th>class_id</th>\n",
       "    </tr>\n",
       "  </thead>\n",
       "  <tbody>\n",
       "  </tbody>\n",
       "</table>\n",
       "</div>"
      ],
      "text/plain": [
       "Empty DataFrame\n",
       "Columns: [study_orthanc_id, class, region, zone, segment_id, count, study_date, patient_id, csPCa, case_class, healthy, StudyInstanceUID, class_id]\n",
       "Index: []"
      ]
     },
     "execution_count": 2,
     "metadata": {},
     "output_type": "execute_result"
    }
   ],
   "source": [
    "# load segmented cases  \n",
    "prostate_lesion_seg = pd.read_csv(\"/data/oleksii/Prostate-Lesion-Datasets-NRRDS/lesion_dataset_1909_20240131_OB.csv\", sep=\";\")\n",
    "\n",
    "# load cases proposed by Lucas\n",
    "cases_to_annotate = pd.read_excel(\"meta_data_lesion/20240702_Lucas_Cases_mit_KI_bewerten.xlsx\")\n",
    "\n",
    "# check for overlap\n",
    "prostate_lesion_seg[prostate_lesion_seg[\"study_orthanc_id\"].isin(cases_to_annotate[\"study_orthanc_id\"])]"
   ]
  },
  {
   "cell_type": "code",
   "execution_count": 3,
   "metadata": {},
   "outputs": [],
   "source": [
    "seq_map = pd.read_csv(\"/home/oleksii/projects/ohif-orthanc-postgres-docker/sequence_mapping/sequence_mapping_13024_studies_20240115.csv\", sep=\";\") "
   ]
  },
  {
   "cell_type": "code",
   "execution_count": 4,
   "metadata": {},
   "outputs": [],
   "source": [
    "# filter non-existing cases out\n",
    "cases_to_annotate = cases_to_annotate[cases_to_annotate[\"study_orthanc_id\"].isin(seq_map[\"study_orthanc_id\"])]\n",
    "\n",
    "dataset_annotate = seq_map[seq_map[\"study_orthanc_id\"].isin(cases_to_annotate[\"study_orthanc_id\"])]\n",
    "dataset_annotate_full = dataset_annotate[~(dataset_annotate['t2w_tra_id'].isna() | dataset_annotate['adc_tra_id'].isna() | dataset_annotate['dwi_tra_id'].isna())]"
   ]
  },
  {
   "cell_type": "code",
   "execution_count": 6,
   "metadata": {},
   "outputs": [],
   "source": [
    "# remove revently segmented cases from the list\n",
    "lesion_studies_processed = os.listdir(\"/data/oleksii/alta-ai.com/alta-ai-orthanc-backup/2024-06-30/prostate_lesion/ProcessingState.PROCESSED\")\n",
    "dataset_annotate_full = dataset_annotate_full[~dataset_annotate_full[\"study_orthanc_id\"].isin(lesion_studies_processed)]"
   ]
  },
  {
   "cell_type": "code",
   "execution_count": 13,
   "metadata": {},
   "outputs": [],
   "source": [
    "# sent to Lucas for double checking\n",
    "dataset_annotate_incomplete_seq = dataset_annotate[~dataset_annotate[\"study_orthanc_id\"].isin(dataset_annotate_full[\"study_orthanc_id\"])]\n",
    "dataset_annotate_incomplete_seq.to_csv(\"annotate_incomplete_seq_map.csv\", sep=\";\")\n"
   ]
  },
  {
   "cell_type": "code",
   "execution_count": 10,
   "metadata": {},
   "outputs": [],
   "source": [
    "class_list = pd.read_csv(\"/home/oleksii/projects/ohif-orthanc-postgres-docker/datasets/classification/klassenliste_matched_with_pacs_20240411.csv\", sep=\";\")\n",
    "dataset_annotate_class = dataset_annotate_full[~dataset_annotate_full[\"study_orthanc_id\"].isin(class_list[\"study_orthanc_id\"])]\n",
    "dataset_annotate_class.to_csv(\"annotate_batch_01_829_seq_map.csv\", sep=\";\")\n"
   ]
  },
  {
   "cell_type": "code",
   "execution_count": 16,
   "metadata": {},
   "outputs": [],
   "source": [
    "cases_to_annotate_first_batch = cases_to_annotate[cases_to_annotate[\"study_orthanc_id\"].isin(dataset_annotate_class[\"study_orthanc_id\"])]\n",
    "cases_to_annotate_first_batch.to_csv(\"annotate_batch_01_829.csv\", sep=\";\")\n"
   ]
  },
  {
   "cell_type": "code",
   "execution_count": null,
   "metadata": {},
   "outputs": [],
   "source": []
  },
  {
   "cell_type": "code",
   "execution_count": null,
   "metadata": {},
   "outputs": [],
   "source": []
  }
 ],
 "metadata": {
  "kernelspec": {
   "display_name": "projectenv",
   "language": "python",
   "name": "python3"
  },
  "language_info": {
   "codemirror_mode": {
    "name": "ipython",
    "version": 3
   },
   "file_extension": ".py",
   "mimetype": "text/x-python",
   "name": "python",
   "nbconvert_exporter": "python",
   "pygments_lexer": "ipython3",
   "version": "3.8.10"
  }
 },
 "nbformat": 4,
 "nbformat_minor": 2
}

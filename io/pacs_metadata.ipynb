{
 "cells": [
  {
   "cell_type": "code",
   "execution_count": 4,
   "id": "246806c0",
   "metadata": {},
   "outputs": [
    {
     "name": "stdout",
     "output_type": "stream",
     "text": [
      "Requirement already satisfied: pyorthanc in /opt/conda/lib/python3.8/site-packages (1.11.5)\n",
      "Requirement already satisfied: httpx<0.24.0,>=0.23.0 in /opt/conda/lib/python3.8/site-packages (from pyorthanc) (0.23.0)\n",
      "Requirement already satisfied: pydicom<3.0.0,>=2.3.0 in /opt/conda/lib/python3.8/site-packages (from pyorthanc) (2.3.0)\n",
      "Requirement already satisfied: httpcore<0.16.0,>=0.15.0 in /opt/conda/lib/python3.8/site-packages (from httpx<0.24.0,>=0.23.0->pyorthanc) (0.15.0)\n",
      "Requirement already satisfied: rfc3986[idna2008]<2,>=1.3 in /opt/conda/lib/python3.8/site-packages (from httpx<0.24.0,>=0.23.0->pyorthanc) (1.5.0)\n",
      "Requirement already satisfied: certifi in /opt/conda/lib/python3.8/site-packages (from httpx<0.24.0,>=0.23.0->pyorthanc) (2021.5.30)\n",
      "Requirement already satisfied: sniffio in /opt/conda/lib/python3.8/site-packages (from httpx<0.24.0,>=0.23.0->pyorthanc) (1.3.0)\n",
      "Requirement already satisfied: h11<0.13,>=0.11 in /opt/conda/lib/python3.8/site-packages (from httpcore<0.16.0,>=0.15.0->httpx<0.24.0,>=0.23.0->pyorthanc) (0.12.0)\n",
      "Requirement already satisfied: anyio==3.* in /opt/conda/lib/python3.8/site-packages (from httpcore<0.16.0,>=0.15.0->httpx<0.24.0,>=0.23.0->pyorthanc) (3.6.2)\n",
      "Requirement already satisfied: idna>=2.8 in /opt/conda/lib/python3.8/site-packages (from anyio==3.*->httpcore<0.16.0,>=0.15.0->httpx<0.24.0,>=0.23.0->pyorthanc) (3.1)\n",
      "\u001b[33mWARNING: Running pip as the 'root' user can result in broken permissions and conflicting behaviour with the system package manager. It is recommended to use a virtual environment instead: https://pip.pypa.io/warnings/venv\u001b[0m\u001b[33m\n",
      "\u001b[0m\n",
      "\u001b[1m[\u001b[0m\u001b[34;49mnotice\u001b[0m\u001b[1;39;49m]\u001b[0m\u001b[39;49m A new release of pip is available: \u001b[0m\u001b[31;49m23.0\u001b[0m\u001b[39;49m -> \u001b[0m\u001b[32;49m23.1.2\u001b[0m\n",
      "\u001b[1m[\u001b[0m\u001b[34;49mnotice\u001b[0m\u001b[1;39;49m]\u001b[0m\u001b[39;49m To update, run: \u001b[0m\u001b[32;49mpip install --upgrade pip\u001b[0m\n",
      "Collecting openpyxl\n",
      "  Downloading openpyxl-3.1.2-py2.py3-none-any.whl (249 kB)\n",
      "\u001b[2K     \u001b[90m━━━━━━━━━━━━━━━━━━━━━━━━━━━━━━━━━━━━━━━\u001b[0m \u001b[32m250.0/250.0 kB\u001b[0m \u001b[31m8.6 MB/s\u001b[0m eta \u001b[36m0:00:00\u001b[0m\n",
      "\u001b[?25hCollecting et-xmlfile\n",
      "  Downloading et_xmlfile-1.1.0-py3-none-any.whl (4.7 kB)\n",
      "Installing collected packages: et-xmlfile, openpyxl\n",
      "Successfully installed et-xmlfile-1.1.0 openpyxl-3.1.2\n",
      "\u001b[33mWARNING: Running pip as the 'root' user can result in broken permissions and conflicting behaviour with the system package manager. It is recommended to use a virtual environment instead: https://pip.pypa.io/warnings/venv\u001b[0m\u001b[33m\n",
      "\u001b[0m\n",
      "\u001b[1m[\u001b[0m\u001b[34;49mnotice\u001b[0m\u001b[1;39;49m]\u001b[0m\u001b[39;49m A new release of pip is available: \u001b[0m\u001b[31;49m23.0\u001b[0m\u001b[39;49m -> \u001b[0m\u001b[32;49m23.1.2\u001b[0m\n",
      "\u001b[1m[\u001b[0m\u001b[34;49mnotice\u001b[0m\u001b[1;39;49m]\u001b[0m\u001b[39;49m To update, run: \u001b[0m\u001b[32;49mpip install --upgrade pip\u001b[0m\n"
     ]
    }
   ],
   "source": [
    "!pip install pyorthanc\n",
    "!pip install openpyxl\n"
   ]
  },
  {
   "cell_type": "code",
   "execution_count": 5,
   "id": "028be189",
   "metadata": {},
   "outputs": [],
   "source": [
    "import pandas as pd \n"
   ]
  },
  {
   "cell_type": "code",
   "execution_count": 51,
   "id": "55604122",
   "metadata": {},
   "outputs": [],
   "source": [
    "# Load biopsie ergebnisse and reconstruct the correct StudyDate\n",
    "\n",
    "biopsy_df = pd.read_excel(\"Biopsiebefunde zu StudyInstandUI.xlsx\")\n",
    "dicom_meta_data = pd.read_csv(\"meta_pacs_inst.csv\", sep=\";\")\n",
    "merged = pd.merge(biopsy_df, dicom_meta_data, on=\"StudyInstanceUID\", how='left').drop(columns=['PatientName', 'StudyDate_x'])\n",
    "merged = merged[~merged[\"StudyDate_y\"].isna()]"
   ]
  },
  {
   "cell_type": "code",
   "execution_count": 72,
   "id": "f471ea14",
   "metadata": {},
   "outputs": [],
   "source": [
    "# Load existing/segmented lesion cases\n",
    "\n",
    "dicom_meta_data = dicom_meta_data[~dicom_meta_data[\"StudyDate\"].isna()]\n",
    "dicom_meta_data[\"StudyDate\"] = dicom_meta_data[\"StudyDate\"].astype(int).astype(str)\n",
    "upladed_2023 = dicom_meta_data[dicom_meta_data[\"StudyDate\"].str.startswith(\"2023\")]"
   ]
  },
  {
   "cell_type": "code",
   "execution_count": 73,
   "id": "28189c9d",
   "metadata": {},
   "outputs": [],
   "source": [
    "lesion_dataset = pd.read_csv(\"/data/oleksii/datasets/ALTA-Lesions-Dataset/segmentation/lesion_dataset.csv\", sep=\";\")\n",
    "segmented_lesions = lesion_dataset['relative_path'].unique()"
   ]
  },
  {
   "cell_type": "code",
   "execution_count": 74,
   "id": "89b94c02",
   "metadata": {},
   "outputs": [],
   "source": [
    "merged[\"ALTA ID str\"] = merged[\"ALTA ID\"].astype(str).str.rjust(12, \"0\")\n",
    "merged[\"PatientID_MRI\"] = merged[\"PatientID_MRI\"].astype(str).str.rjust(12, \"0\")\n",
    "merged[\"StudyDate_y\"] = merged[\"StudyDate_y\"].astype(int).astype(str)"
   ]
  },
  {
   "cell_type": "code",
   "execution_count": 75,
   "id": "6aeaeec6",
   "metadata": {},
   "outputs": [],
   "source": [
    "merged['relative_path'] = merged.apply(lambda row: '/'.join([row[\"ALTA ID str\"], row[\"StudyDate_y\"]]), axis=1)\n",
    "merged['relative_path2'] = merged.apply(lambda row: '/'.join([row[\"PatientID_MRI\"], row[\"StudyDate_y\"]]), axis=1)\n"
   ]
  },
  {
   "cell_type": "code",
   "execution_count": 91,
   "id": "643bc1e7",
   "metadata": {},
   "outputs": [],
   "source": [
    "# make sure for account for mri id just in case\n",
    "merged['segmented'] = merged['relative_path'].isin(segmented_lesions)\n",
    "merged['segmented2'] = merged['relative_path2'].isin(segmented_lesions)\n",
    "merged['to_exclude'] = merged['segmented'] | merged['segmented2']"
   ]
  },
  {
   "cell_type": "code",
   "execution_count": 100,
   "id": "2eeb5380",
   "metadata": {},
   "outputs": [],
   "source": [
    "# Remove the cases\n",
    "merged = merged[~merged['StudyInstanceUID'].isin(upladed_2023['StudyInstanceUID'])]\n",
    "merged = merged[~merged['to_exclude']]"
   ]
  },
  {
   "cell_type": "code",
   "execution_count": 102,
   "id": "16a62c95",
   "metadata": {},
   "outputs": [],
   "source": [
    "merged = merged.drop(columns=['segmented', 'segmented2', 'seg', 'to_exclude'])"
   ]
  },
  {
   "cell_type": "code",
   "execution_count": 106,
   "id": "e45caeb8",
   "metadata": {},
   "outputs": [],
   "source": [
    "merged.reset_index()\n",
    "merged.to_csv('biopsy_findings_to_segment_20230505.csv', index=False, sep=\";\")\n"
   ]
  },
  {
   "cell_type": "code",
   "execution_count": 107,
   "id": "70ef18b0",
   "metadata": {},
   "outputs": [
    {
     "data": {
      "text/plain": [
       "3549"
      ]
     },
     "execution_count": 107,
     "metadata": {},
     "output_type": "execute_result"
    }
   ],
   "source": [
    "len(merged)"
   ]
  },
  {
   "cell_type": "code",
   "execution_count": null,
   "id": "3dc46e72",
   "metadata": {},
   "outputs": [],
   "source": []
  }
 ],
 "metadata": {
  "kernelspec": {
   "display_name": "Python 3 (ipykernel)",
   "language": "python",
   "name": "python3"
  },
  "language_info": {
   "codemirror_mode": {
    "name": "ipython",
    "version": 3
   },
   "file_extension": ".py",
   "mimetype": "text/x-python",
   "name": "python",
   "nbconvert_exporter": "python",
   "pygments_lexer": "ipython3",
   "version": "3.8.10"
  }
 },
 "nbformat": 4,
 "nbformat_minor": 5
}
